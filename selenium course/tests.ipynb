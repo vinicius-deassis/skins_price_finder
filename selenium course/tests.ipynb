{
 "cells": [
  {
   "cell_type": "markdown",
   "metadata": {},
   "source": [
    "Handling the worksheet\n",
    ". Firstly with a public spreadsheet"
   ]
  },
  {
   "cell_type": "code",
   "execution_count": 15,
   "metadata": {},
   "outputs": [
    {
     "name": "stdout",
     "output_type": "stream",
     "text": [
      "['M4A4 | Space Desolation (Well-Worn)', 'AK-47 (StatTrak™) | Elite Build (Field-Tested)', 'USP-S (StatTrak™) | Cortex (Well-Worn)', 'M4A1-S | Nitro (Field-Tested)', 'FAMAS | ZX Spectron (Battle-Scarred)', 'MAC-10 | Allure (Field-Tested)', 'Galil AR | Black Sand (Minimal Wear)', 'Souvenir MP9 | Storm (Field-Tested)', 'MP9 | Mount Fuji (Field-Tested)', '3rd Commando Company | KSK', 'AWP | PAW (Field-Tested)', 'Desert Eagle | Light Rail (Battle-Scarred)', 'Music Kit | Denzel Curry, ULTIMATE', 'Souvenir Five-SeveN | Contractor (Field-Tested)', 'StatTrak™ P250 | Valence']\n"
     ]
    }
   ],
   "source": [
    "import pandas as pd\n",
    "\n",
    "sheet_id = '1XgkyLY7efzQrkjVP_Mezojq7umFQCcLPv8CLYuXoB0I'\n",
    "url = f\"https://docs.google.com/spreadsheets/d/{sheet_id}/gviz/tq?tqx=out:csv\"\n",
    "df = pd.read_csv(url)\n",
    "\n",
    "skins_list = df['Skins'].tolist()\n",
    "skins_list.pop()"
   ]
  },
  {
   "cell_type": "markdown",
   "metadata": {},
   "source": [
    "Handling the Webscraping part with Selenium"
   ]
  },
  {
   "cell_type": "code",
   "execution_count": null,
   "metadata": {},
   "outputs": [],
   "source": [
    "from selenium import webdriver\n",
    "from selenium.webdriver.common.by import By\n",
    "import time\n",
    "\n",
    "driver = webdriver.Firefox()\n",
    "driver.get('https://steamcommunity.com/market/')"
   ]
  },
  {
   "cell_type": "code",
   "execution_count": 76,
   "metadata": {},
   "outputs": [
    {
     "name": "stdout",
     "output_type": "stream",
     "text": [
      "M4A4 | Space Desolation (Well-Worn) costs 5.79\n"
     ]
    }
   ],
   "source": [
    "def find_price(skin):\n",
    "    driver.find_element(By.ID, 'findItemsSearchBox').send_keys(f'{skin}')\n",
    "    driver.find_element(By.ID, 'findItemsSearchSubmit').click()\n",
    "    price = driver.find_element(By.CLASS_NAME, \"normal_price\").text\n",
    "    price = price[14:]\n",
    "    price = float(price[:-4])\n",
    "    return price\n",
    "\n",
    "print(f'{skins_list[0]} costs {find_price(skins_list[0])}')\n"
   ]
  }
 ],
 "metadata": {
  "kernelspec": {
   "display_name": "base",
   "language": "python",
   "name": "python3"
  },
  "language_info": {
   "codemirror_mode": {
    "name": "ipython",
    "version": 3
   },
   "file_extension": ".py",
   "mimetype": "text/x-python",
   "name": "python",
   "nbconvert_exporter": "python",
   "pygments_lexer": "ipython3",
   "version": "3.12.4"
  }
 },
 "nbformat": 4,
 "nbformat_minor": 2
}
