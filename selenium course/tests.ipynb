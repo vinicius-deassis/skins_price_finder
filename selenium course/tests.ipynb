{
 "cells": [
  {
   "cell_type": "markdown",
   "metadata": {},
   "source": [
    "Handling the worksheet\n",
    ". Firstly with a public spreadsheet"
   ]
  },
  {
   "cell_type": "code",
   "execution_count": null,
   "metadata": {},
   "outputs": [],
   "source": [
    "import pandas as pd\n",
    "\n",
    "sheet_id = '1XgkyLY7efzQrkjVP_Mezojq7umFQCcLPv8CLYuXoB0I'\n",
    "url = f\"https://docs.google.com/spreadsheets/d/{sheet_id}/gviz/tq?tqx=out:csv\"\n",
    "df = pd.read_csv(url)\n",
    "\n",
    "skins_list = df['Skins'].tolist()\n",
    "skins_list.pop()"
   ]
  },
  {
   "cell_type": "markdown",
   "metadata": {},
   "source": [
    "Handling the Webscraping part with Selenium"
   ]
  },
  {
   "cell_type": "code",
   "execution_count": 84,
   "metadata": {},
   "outputs": [],
   "source": [
    "from selenium import webdriver\n",
    "from selenium.webdriver.common.by import By\n",
    "from selenium.webdriver.common.keys import Keys\n",
    "\n",
    "driver = webdriver.Firefox()\n",
    "driver.get('https://steamcommunity.com/market/')"
   ]
  },
  {
   "cell_type": "code",
   "execution_count": 85,
   "metadata": {},
   "outputs": [
    {
     "name": "stdout",
     "output_type": "stream",
     "text": [
      "[5.79, 5.75, 5.41, 0.47, 1.17, 0.49, 0.25, 0.58, 4.99, 11.96, 1.56, 0.7, 3.77, 0.49, 0.42]\n"
     ]
    }
   ],
   "source": [
    "def find_price(skin):\n",
    "    driver.find_element(By.ID, 'findItemsSearchBox').send_keys(f'{skin}')\n",
    "    driver.find_element(By.ID, 'findItemsSearchSubmit').click()\n",
    "    price = driver.find_element(By.CLASS_NAME, \"normal_price\").text\n",
    "    price = price[14:]\n",
    "    price = float(price[:-4])\n",
    "    return price\n",
    "\n",
    "def restart_process():\n",
    "    driver.find_element(By.ID, 'findItemsSearchBox').send_keys(Keys.CONTROL,\"a\")\n",
    "    driver.find_element(By.ID, 'findItemsSearchBox').send_keys(Keys.DELETE)\n",
    "\n",
    "price_list = []\n",
    "for i in range(0, len(skins_list)):\n",
    "    price = find_price(skins_list[i])\n",
    "    restart_process()\n",
    "    price_list.append(price)\n",
    "\n",
    "print(price_list)\n",
    "df_price = pd.DataFrame(price_list)"
   ]
  },
  {
   "cell_type": "code",
   "execution_count": null,
   "metadata": {},
   "outputs": [],
   "source": []
  }
 ],
 "metadata": {
  "kernelspec": {
   "display_name": "base",
   "language": "python",
   "name": "python3"
  },
  "language_info": {
   "codemirror_mode": {
    "name": "ipython",
    "version": 3
   },
   "file_extension": ".py",
   "mimetype": "text/x-python",
   "name": "python",
   "nbconvert_exporter": "python",
   "pygments_lexer": "ipython3",
   "version": "3.12.4"
  }
 },
 "nbformat": 4,
 "nbformat_minor": 2
}
